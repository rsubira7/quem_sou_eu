{
  "nbformat": 4,
  "nbformat_minor": 0,
  "metadata": {
    "colab": {
      "provenance": [],
      "authorship_tag": "ABX9TyNT4vt4IGTkGk5ddvaWY1qk",
      "include_colab_link": true
    },
    "kernelspec": {
      "name": "python3",
      "display_name": "Python 3"
    },
    "language_info": {
      "name": "python"
    }
  },
  "cells": [
    {
      "cell_type": "markdown",
      "metadata": {
        "id": "view-in-github",
        "colab_type": "text"
      },
      "source": [
        "<a href=\"https://colab.research.google.com/github/rsubira7/quem_sou_eu/blob/main/Quem_sou_eu.ipynb\" target=\"_parent\"><img src=\"https://colab.research.google.com/assets/colab-badge.svg\" alt=\"Open In Colab\"/></a>"
      ]
    },
    {
      "cell_type": "code",
      "execution_count": 1,
      "metadata": {
        "id": "VFEVq9q9Zli9"
      },
      "outputs": [],
      "source": [
        "!pip install -q -U google-generativeai"
      ]
    },
    {
      "cell_type": "code",
      "source": [
        "import google.generativeai as genai # Importa biblioteca Google Generative AI\n",
        "from google.colab import userdata # Importa módulo userdata do Colab\n",
        "api_key = userdata.get('SECRET_KEY') # Obtém chave API do armazenamento de segredos\n",
        "genai.configure(api_key=api_key) # Configura genai com chave API para autenticação"
      ],
      "metadata": {
        "id": "9b5W2CUQbbYp"
      },
      "execution_count": 77,
      "outputs": []
    },
    {
      "cell_type": "code",
      "source": [
        "for m in genai.list_models(): # Para cada modelo na lista de modelos Generative AI:\n",
        "  if 'generateContent' in m.supported_generation_methods: # Se o modelo suporta geração de conteúdo:\n",
        "    print(m.name) # Imprime o nome do modelo"
      ],
      "metadata": {
        "colab": {
          "base_uri": "https://localhost:8080/",
          "height": 142
        },
        "id": "YVNoc7Qgbi-S",
        "outputId": "3cae3193-a224-4555-ccf2-30afc3ebfbad"
      },
      "execution_count": 78,
      "outputs": [
        {
          "output_type": "stream",
          "name": "stdout",
          "text": [
            "models/gemini-1.0-pro\n",
            "models/gemini-1.0-pro-001\n",
            "models/gemini-1.0-pro-latest\n",
            "models/gemini-1.0-pro-vision-latest\n",
            "models/gemini-1.5-pro-latest\n",
            "models/gemini-pro\n",
            "models/gemini-pro-vision\n"
          ]
        }
      ]
    },
    {
      "cell_type": "code",
      "source": [
        "generation_config = { # Define a configuração de geração\n",
        "  \"candidate_count\": 1, # Gera 1 resposta candidata\n",
        "  \"temperature\": 0.5, # Controla a criatividade da resposta\n",
        "}\n",
        "\n",
        "safety_settings = [ # Define configurações de segurança\n",
        "  {\n",
        "    \"category\": \"HARM_CATEGORY_HARASSMENT\",\n",
        "    \"threshold\": \"BLOCK_NONE\"\n",
        "  },\n",
        "  {\n",
        "    \"category\": \"HARM_CATEGORY_HATE_SPEECH\",\n",
        "    \"threshold\": \"BLOCK_NONE\"\n",
        "  },\n",
        "  {\n",
        "    \"category\": \"HARM_CATEGORY_SEXUALLY_EXPLICIT\",\n",
        "    \"threshold\": \"BLOCK_NONE\"\n",
        "  },\n",
        "  {\n",
        "    \"category\": \"HARM_CATEGORY_DANGEROUS_CONTENT\",\n",
        "    \"threshold\": \"BLOCK_NONE\"\n",
        "  },\n",
        "]\n",
        "\n",
        "system_instruction = \"Você é o anfitrião de um jogo chamado \\\"Quem sou eu?\\\". A cada nova conversa, você deve pensar em uma personalidade secreta, a pessoa conversando com você deverá fazer perguntas, e você pode apenas responder com Sim ou Não. A personalidade secreta precisa ser bastamte famosa, a audiência do jogo será brasileira, então foque em personalidades famosas no Brasil.\" # Define instruções do sistema\n",
        "\n",
        "model = genai.GenerativeModel(model_name=\"models/gemini-1.5-pro-latest\", # Inicializa o GenerativeModel\n",
        "                              generation_config=generation_config,\n",
        "                              system_instruction=system_instruction,\n",
        "                              safety_settings=safety_settings)\n"
      ],
      "metadata": {
        "id": "W-7a7qfkbyds"
      },
      "execution_count": 84,
      "outputs": []
    },
    {
      "cell_type": "code",
      "source": [
        "print(\"Bem-vindo(a)! Esse é o jogo \\\"Quem sou eu?\\\"\\n\") # Imprime mensagem de boas-vindas\n",
        "def menu_principal(): # Exibe o menu principal e retorna a escolha do usuário.\n",
        "  print(\"O que você deseja fazer?\")\n",
        "  print(\"1. Jogar\")\n",
        "  print(\"2. Sair\")\n",
        "\n",
        "  escolha = input(\"Digite sua escolha: \")\n",
        "  print(\"\\n\")\n",
        "\n",
        "  if escolha == \"1\":\n",
        "    chat = model.start_chat(history=[]) # Inicia bate-papo com o modelo\n",
        "    print(\"Vamos lá! \\\"Quem sou eu?\\\" \\nPara jogar, comece fazendo uma pergunta sobre a personalidade secreta. Se quiser encerrar, digite \\\"2\\\" ou \\\"Sair\\\" a qualquer momento\") # Imprime instruções e inicia loop de jogo\n",
        "    prompt = input(\"Pergunta: \")\n",
        "    while prompt != \"Sair\" and prompt != \"2\":\n",
        "      response = chat.send_message(prompt) # Envia mensagem para o modelo e recebe resposta\n",
        "      print(\"Resposta: \", response.text, \"\\n\")\n",
        "      prompt = input(\"Pergunta: \")\n",
        "      time.sleep(0.5) # Solicita nova pergunta e aguarda um breve intervalo\n",
        "    pass\n",
        "\n",
        "  elif escolha == \"2\":\n",
        "    print(\"Saindo do programa...\") # Imprime mensagem de saída e finaliza a função\n",
        "    return\n",
        "  else:\n",
        "    print(\"Opção inválida. Tente novamente.\") # Trata opção inválida e chama o menu novamente\n",
        "    menu_principal()\n",
        "\n",
        "menu_principal()"
      ],
      "metadata": {
        "colab": {
          "base_uri": "https://localhost:8080/",
          "height": 642
        },
        "id": "bAXU4g0B7Lzb",
        "outputId": "ae4a9c1a-d2f4-4b3a-d826-2973d3ec735b"
      },
      "execution_count": 125,
      "outputs": [
        {
          "name": "stdout",
          "output_type": "stream",
          "text": [
            "Bem-vindo(a)! Esse é o jogo \"Quem sou eu?\"\n",
            "\n",
            "O que você deseja fazer?\n",
            "1. Jogar\n",
            "2. Sair\n",
            "Digite sua escolha: 1\n",
            "\n",
            "\n",
            "Vamos lá! \"Quem sou eu?\" \n",
            "Para jogar, comece fazendo uma pergunta sobre a personalidade secreta. Se quiser encerrar, digite \"2\" ou \"Sair\" a qualquer momento\n",
            "Pergunta: Vc é homem?\n",
            "Resposta:  Sim. \n",
            " \n",
            "\n",
            "Pergunta: Vc é do esporte?\n",
            "Resposta:  Sim. \n",
            " \n",
            "\n",
            "Pergunta: Vc é do futebol?\n",
            "Resposta:  Sim! \n",
            " \n",
            "\n",
            "Pergunta: Você é o Neymar?\n",
            "Resposta:  Não. \n",
            " \n",
            "\n",
            "Pergunta: Vc ainda está em atividade?\n",
            "Resposta:  Não. \n",
            " \n",
            "\n",
            "Pergunta: Vc é o Ronaldo?\n",
            "Resposta:  Sim!  😁 \n",
            " \n",
            "\n",
            "Pergunta: 2\n"
          ]
        }
      ]
    }
  ]
}